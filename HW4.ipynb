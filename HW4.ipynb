{
 "cells": [
  {
   "cell_type": "markdown",
   "id": "bb9af9d7",
   "metadata": {},
   "source": [
    "1.\n",
    "Standard deviation describes how data points are dispersed around the mean and shows how variable the data we are working with is. Meanwhile, Standard error of the mean describes the precision of the sample mean and how much the mean value itself varies across samples. In this way, the SEM tells us how much we can expect the sample mean to vary from the true population mean.\n",
    "\n",
    "However, Bootstrapping involves repeatedly resampling from the original data and calculating the mean for each sample. This creates a distribution of means that shows how much the sample mean can vary. The standard deviation of this distribution gives us the standard error, which effectively gives us how much the sample mean would vary across different samples from the same population. Thus, SD and SEM become equivalent when using Bootstrapping."
   ]
  },
  {
   "cell_type": "markdown",
   "id": "56a3f991",
   "metadata": {},
   "source": [
    "6.\n",
    "a) What is the process of bootstrapping?\n",
    "Bootstrapping is a method where you repeatedly take random samples from your original data (with replacement) to create many new datasets. This means after each sample we conduct, we put the selected values back into the original pool where they could be potentially chosen again. We can use bootstrapping to calculate the statistic you're interested in, like the mean, from each of these datasets to see how much it varies.\n",
    "\n",
    "b) What is the main purpose of bootstrapping?\n",
    "The main purpose of bootstrapping is to estimate how much a statistic, like the mean, could change if we had different samples. It helps us understand the uncertainty in our estimates without needing to gather more data, which can be expensive and time consuming.\n",
    "\n",
    "c) If you had a (hypothesized) guess about what the average of a population was, and you had a sample of size n from that population, how could you use bootstrapping to assess whether or not your (hypothesized) guess might be plausible?\n",
    "You could use bootstrapping to generate a bunch of new means from your sample, then check if your hypothesized guess falls within the range of those bootstrapped means. If your guess is way outside the range of these means, it’s probably not a good estimate."
   ]
  },
  {
   "cell_type": "markdown",
   "id": "77898124",
   "metadata": {},
   "source": [
    "8.\n",
    "\n",
    "Problem Introduction\n",
    "AliTech has developed a vaccine to improve people's health, and we are tasked with determining whether the vaccine has a \n",
    "significant positive effect. We will analyze the change in health scores from initial to final (after the vaccine) using \n",
    "bootstrapping to estimate the effectiveness of the vaccine.\n",
    "\n",
    "Null Hypothesis\n",
    "The Null Hypothesis (H0) for this scenario is that the vaccine has no effect on health. In this case, that means any changes in the health scores are due to natural variation, not the vaccine itself. If the final health score distribution is not significantly different from the initial health score distribution, we will fail to reject this hypothesis.\n",
    "\n",
    "Data Visualization\n",
    "To gain an initial insight into the data, we can visualize the change in health scores using a histogram or a line chart. We'll plot both initial and final health scores for a direct comparison.\n",
    "\n",
    "Quantitative Analysis\n",
    "Methodology\n",
    "We will employ the bootstrapping method to assess the variability in health score changes and evaluate whether the observed changes are statistically significant.\n",
    "\n",
    "a) Calculate Health Improvement: For each patient, the improvement will be calculated as the difference between the final and initial health scores.\n",
    "Bootstrapping Process:\n",
    "\n",
    "b) We will randomly sample patients with replacement to generate many bootstrapped datasets.\n",
    "For each bootstrapped dataset, we'll compute the mean change in health scores.\n",
    "By repeating this process many times (e.g., 10,000 iterations), we will create a distribution of bootstrapped means.\n",
    "Assessing the Hypothesis:\n",
    "\n",
    "c) We will then check if the 95% confidence interval (CI) of these bootstrapped means includes zero. If zero is outside the confidence interval, we will reject the null hypothesis (indicating a statistically significant effect).\n",
    "\n",
    "\n",
    "Supporting Visualizations\n",
    "We will visualize the following:\n",
    "\n",
    "A plot comparing the initial and final health scores.\n",
    "A histogram of the bootstrapped mean health changes.\n",
    "The 95% confidence interval of the bootstrapped means."
   ]
  },
  {
   "cell_type": "code",
   "execution_count": 8,
   "id": "7a8c1446",
   "metadata": {},
   "outputs": [
    {
     "data": {
      "image/png": "[encoded data removed]",
      "text/plain": [
       "<Figure size 640x480 with 1 Axes>"
      ]
     },
     "metadata": {},
     "output_type": "display_data"
    },
    {
     "name": "stdout",
     "output_type": "stream",
     "text": [
      "95% Confidence Interval for Health Change: [0.90, 5.60]\n"
     ]
    }
   ],
   "source": [
    "import numpy as np\n",
    "import pandas as pd\n",
    "import matplotlib.pyplot as plt\n",
    "\n",
    "# Create the data and save it as a CSV file\n",
    "data = {\n",
    "    'PatientID': [1, 2, 3, 4, 5, 6, 7, 8, 9, 10],\n",
    "    'Age': [45, 34, 29, 52, 37, 41, 33, 48, 26, 39],\n",
    "    'Gender': ['M', 'F', 'M', 'F', 'M', 'F', 'M', 'F', 'M', 'F'],\n",
    "    'InitialHealthScore': [84, 78, 83, 81, 81, 80, 79, 85, 76, 83],\n",
    "    'FinalHealthScore': [86, 86, 80, 86, 84, 86, 86, 82, 83, 84]\n",
    "}\n",
    "df = pd.DataFrame(data)\n",
    "\n",
    "# Save to a CSV file\n",
    "df.to_csv('health_data.csv', index=False)\n",
    "\n",
    "# Read the CSV file\n",
    "df = pd.read_csv('health_data.csv')\n",
    "\n",
    "# Calculate the health score improvement\n",
    "df['HealthChange'] = df['FinalHealthScore'] - df['InitialHealthScore']\n",
    "\n",
    "# Bootstrapping\n",
    "np.random.seed(42)\n",
    "n_iterations = 10000\n",
    "bootstrap_means = []\n",
    "\n",
    "for _ in range(n_iterations):\n",
    "    boot_sample = df.sample(n=len(df), replace=True)\n",
    "    boot_mean = boot_sample['HealthChange'].mean()\n",
    "    bootstrap_means.append(boot_mean)\n",
    "\n",
    "# Calculate the confidence interval\n",
    "bootstrap_means = np.array(bootstrap_means)\n",
    "ci_lower = np.percentile(bootstrap_means, 2.5)\n",
    "ci_upper = np.percentile(bootstrap_means, 97.5)\n",
    "\n",
    "# Plot the results\n",
    "plt.hist(bootstrap_means, bins=30, edgecolor='k')\n",
    "plt.axvline(ci_lower, color='red', linestyle='dashed', linewidth=2)\n",
    "plt.axvline(ci_upper, color='red', linestyle='dashed', linewidth=2)\n",
    "plt.title(\"Bootstrapped Means of Health Changes\")\n",
    "plt.xlabel(\"Mean Health Change\")\n",
    "plt.ylabel(\"Frequency\")\n",
    "plt.show()\n",
    "\n",
    "# Output the confidence interval\n",
    "print(f\"95% Confidence Interval for Health Change: [{ci_lower:.2f}, {ci_upper:.2f}]\")"
   ]
  },
  {
   "cell_type": "markdown",
   "id": "22d1ffe2",
   "metadata": {},
   "source": [
    "Findings and Discussion\n",
    "After running the bootstrapping procedure, we will have a distribution of bootstrapped means, and the 95% confidence interval can be calculated from this distribution. If zero is within this interval, it suggests that the vaccine may not have a significant effect; otherwise, we can reject the null hypothesis.\n",
    "\n",
    "Conclusion Regarding Null Hypothesis\n",
    "If the 95% confidence interval does not contain zero, we reject the null hypothesis and conclude that the vaccine likely has a positive effect on health. If zero is within the interval, we fail to reject the null hypothesis, meaning the evidence does not support the claim that the vaccine significantly improves health.\n",
    "\n",
    "Further Considerations\n",
    "To improve the robustness of the analysis, we could consider additional factors like age and gender in a multivariate model to see if certain groups benefit more from the vaccine than others."
   ]
  },
  {
   "cell_type": "markdown",
   "id": "3b7393b2",
   "metadata": {},
   "source": [
    "https://chatgpt.com/share/66ffce33-c444-8007-81e8-24f3b66004e3"
   ]
  }
 ],
 "metadata": {
  "kernelspec": {
   "display_name": "Python 3 (ipykernel)",
   "language": "python",
   "name": "python3"
  },
  "language_info": {
   "codemirror_mode": {
    "name": "ipython",
    "version": 3
   },
   "file_extension": ".py",
   "mimetype": "text/x-python",
   "name": "python",
   "nbconvert_exporter": "python",
   "pygments_lexer": "ipython3",
   "version": "3.11.6"
  }
 },
 "nbformat": 4,
 "nbformat_minor": 5
}
