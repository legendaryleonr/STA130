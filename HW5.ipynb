{
 "cells": [
  {
   "cell_type": "markdown",
   "id": "8bee2631",
   "metadata": {},
   "source": [
    "https://chatgpt.com/share/670e8e30-d7f4-8007-817b-739f5ba5e83f"
   ]
  },
  {
   "cell_type": "markdown",
   "id": "81945e8a",
   "metadata": {},
   "source": [
    "2."
   ]
  },
  {
   "cell_type": "markdown",
   "id": "0be66de1",
   "metadata": {},
   "source": [
    "When we run a test in statistics, we are trying to understand something about the \"population\", not just the small sample we collected data from. In hypothesis testing, we use the sample's average (𝑥̄) to test if the population's average (𝜇) is likely to be the same as the hypothesized value (𝜇0). The outcome of the test tells us about the population, not just the sample we observed.\n",
    "\n",
    "𝑥𝑖: These are individual data points from the sample we collected. For instance, if we measured 10 people's blood pressure after taking the drug, 𝑥𝑖 represents each person's reading.\n",
    "𝑥̄: This is the average of the sample data points (𝑥𝑖). It's our estimate of what the population average (𝜇) might be. We use this sample average to check whether it's close enough to the hypothesized population average (𝜇0).\n",
    "𝜇: This is the true average for the entire population, which we can never know for sure. The point of hypothesis testing is to make an informed guess about whether 𝜇 is equal to 𝜇0 (the null hypothesis) or not (the alternative hypothesis).\n",
    "𝜇0: This is the hypothesized average value for the population under the null hypothesis (𝐻0). It's what we think the population average might be before we run the test.\n",
    "\n",
    "\n",
    "Hypothesis testing:\n",
    "\n",
    "Null hypothesis (𝐻0): This is the starting assumption we make. It states that the population average (𝜇) is equal to a specific value (𝜇0). For example, if we're testing whether a new drug affects blood pressure, 𝐻0 might say \"the drug has no effect,\" meaning the average blood pressure (𝜇) remains the same as it was before (𝜇0).\n",
    "\n",
    "Alternative hypothesis (𝐻𝐴): This is the opposite of the null hypothesis. It suggests that the population average (𝜇) is different from the hypothesized value (𝜇0). In our drug example, the alternative hypothesis would say \"the drug does affect blood pressure,\" meaning the average blood pressure (𝜇) is not equal to 𝜇0.\n",
    "\n",
    "In hypothesis testing, we compare the sample average (𝑥̄) to the hypothesized population average (𝜇0). If the difference is large enough, we have evidence to reject the null hypothesis (𝐻0) and say that the population average (𝜇) is likely different from 𝜇0. If the difference is small, we do not reject 𝐻0, meaning we don't have enough evidence to say 𝜇 differs from 𝜇0."
   ]
  },
  {
   "cell_type": "markdown",
   "id": "db9ffb5e",
   "metadata": {},
   "source": [
    "4."
   ]
  },
  {
   "cell_type": "markdown",
   "id": "905de7c1",
   "metadata": {},
   "source": [
    "A smaller p-value makes the null hypothesis (𝐻0) look more \"ridiculous\" because it shows that the results we observed in our sample are very unlikely to happen if the null hypothesis were true.\n",
    "\n",
    "Null Hypothesis (𝐻0): The null hypothesis assumes that there's no effect or no difference—essentially, that the population parameter (like the population average 𝜇) is equal to a specific value (𝜇0). For example, if we are testing whether a coin is fair, 𝐻0 would say the coin has a 50% chance of landing heads.\n",
    "\n",
    "Test Statistic: A test statistic is a number we calculate from our sample data (like the sample average 𝑥̄) that tells us how far off our data is from what we'd expect if 𝐻0 were true. If the sample data is close to what 𝐻0 predicts, the test statistic will be small. If the sample data is very different, the test statistic will be large.\n",
    "\n",
    "Sampling Distribution: This is the distribution of possible test statistic values we would expect to see if we repeated our experiment many times, assuming 𝐻0 is true. It shows what \"normal\" variation looks like when 𝐻0 holds. The test statistic we calculate from our actual sample gets compared to this distribution.\n",
    "\n",
    "P-value: The p-value is the probability of getting a test statistic at least as extreme as the one we observed, if 𝐻0 is true. So, if we calculate a test statistic and get a p-value of, say, 0.01, it means there's only a 1% chance we’d see a result this extreme under the assumption that 𝐻0 is true.\n",
    "\n",
    "Why a smaller p-value makes 𝐻0 look ridiculous: When the p-value is very small, it means the test statistic we observed from our sample is very far from what we would expect if 𝐻0 were true. In other words, the data is so unusual under 𝐻0 that it casts serious doubt on the assumption that 𝐻0 is correct. It suggests that the null hypothesis is a bad explanation for what we're seeing in the data.\n",
    "\n",
    "For example, if we're testing whether a coin is fair (𝐻0: the coin is fair), and we flip the coin 100 times but get 90 heads, the test statistic (based on this data) would be very far from what we'd expect under 𝐻0 (50 heads). The p-value would be tiny, showing that it's highly unlikely we’d observe such extreme results if the coin were actually fair. Thus, 𝐻0 looks more and more unreasonable.\n",
    "\n",
    "Essentially, a smaller p-value means the result we got is highly inconsistent with the assumption that 𝐻0 is true, making 𝐻0 seem less and less plausible."
   ]
  },
  {
   "cell_type": "markdown",
   "id": "07871efc",
   "metadata": {},
   "source": [
    "8."
   ]
  },
  {
   "cell_type": "markdown",
   "id": "d50f92ed",
   "metadata": {},
   "source": [
    "Fisher's Tea Experiment: STA130 Students Hypothesis Test\n",
    "Problem Introduction\n",
    "In this experiment, we're exploring whether STA130 students can reliably distinguish between tea and milk being poured first, similar to the famous tea experiment conducted by Ronald Fisher. In the original experiment, Fisher sought to determine if Dr. Muriel Bristol could reliably tell whether tea or milk was poured first. Dr. Bristol correctly identified all 8 cups in the experiment, leading Fisher to test if this outcome could occur by chance.\n",
    "\n",
    "For our version, we have 80 STA130 students, 49 of whom correctly identified the order in which tea or milk was poured. We aim to analyze whether this result is significantly different from random guessing, by conducting a hypothesis test.\n",
    "\n",
    "Relationship to the Original Experiment\n",
    "While the original experiment with Dr. Bristol was on a small scale (8 trials), it tested the ability of a single individual to discern a personalized parameter (her taste preference). Our experiment, on the other hand, involves a much larger sample (80 students) and tests a more abstract ability to discern the order of pouring. The larger sample size in our case allows for more robust statistical analysis, and we're interested in whether the proportion of correct answers is significantly higher than random guessing.\n",
    "\n",
    "Statements of the Null and Alternative Hypotheses\n",
    "Null Hypothesis (𝐻0): The students are just guessing, meaning the probability of correctly identifying whether milk or tea was poured first is 50%. Mathematically, this can be stated as:\n",
    "H0:p=0.5\n",
    "\n",
    "Interpretation in Everyday Language: This hypothesis means that students are no better than chance at determining whether the milk or tea was poured first. If they are purely guessing, we expect about 50% of them to get it right just by chance.\n",
    "\n",
    "Alternative Hypothesis (𝐻𝐴): The students are not just guessing, meaning the probability of correctly identifying the order is different from 50%. We are interested in whether the proportion of correct responses is significantly greater than 50%. This can be stated as:\n",
    "HA:p>0.5\n",
    "\n",
    "Interpretation in Everyday Language: This hypothesis suggests that the students have some ability to distinguish the order of pouring and are doing better than chance in their answers.\n",
    "\n",
    "Quantitative Analysis\n",
    "We will perform a formal hypothesis test by using the observed sample statistic and calculating the probability of observing a result as extreme as 49/80 correct answers under the null hypothesis (random guessing, where 𝐻0: p = 0.5). Specifically, we'll calculate the p-value to determine whether to reject the null hypothesis.\n",
    "\n",
    "Sample statistic (p̂): The sample proportion of correct responses is:\n",
    "p = 49/80 = 0.6125\n",
    "Population parameter: Under 𝐻0, we assume the population proportion is \n",
    "𝑝0 = 0.5\n",
    "\n",
    "Test statistic: We will perform a z-test for proportions to compare the observed proportion to the hypothesized population proportion.\n",
    "\n",
    "The z-test statistic is calculated as follows:\n",
    "\n",
    " z = (p-p0)/((p0(1-p0))/n)^1/2\n",
    " \n",
    "where:\n",
    "\n",
    "p = 0.6125\n",
    "p0 = 0.5\n",
    "n = 80"
   ]
  },
  {
   "cell_type": "code",
   "execution_count": null,
   "id": "6ddc43d8",
   "metadata": {},
   "outputs": [],
   "source": [
    "import numpy as np\n",
    "from scipy import stats\n",
    "\n",
    "# Set random seed for reproducibility\n",
    "np.random.seed(42)\n",
    "\n",
    "# Given data\n",
    "p_hat = 49 / 80  # sample proportion\n",
    "p_0 = 0.5        # null hypothesis proportion\n",
    "n = 80           # sample size\n",
    "\n",
    "# Calculate the standard error\n",
    "standard_error = np.sqrt(p_0 * (1 - p_0) / n)\n",
    "\n",
    "# Calculate the z-test statistic\n",
    "z_statistic = (p_hat - p_0) / standard_error\n",
    "\n",
    "# Calculate the p-value for a one-tailed test\n",
    "p_value = 1 - stats.norm.cdf(z_statistic)\n",
    "\n",
    "# Output results\n",
    "z_statistic, p_value"
   ]
  },
  {
   "cell_type": "markdown",
   "id": "d301e85a",
   "metadata": {},
   "source": [
    "The code calculates the z-statistic and the corresponding p-value based on the observed data.\n",
    "\n",
    "Supporting Visualizations (Optional)\n",
    "A visualization could help demonstrate the position of the observed sample statistic relative to the sampling distribution under 𝐻0. For simplicity, a plot of the standard normal distribution with the z-statistic marked can clarify the decision threshold.\n",
    "\n",
    "Findings and Discussion\n",
    "Test statistic (z): The z-statistic tells us how many standard errors the observed sample proportion is away from the hypothesized population proportion under 𝐻0.\n",
    "\n",
    "P-value: The p-value represents the probability of observing a sample proportion at least as extreme as 0.6125 (49/80), assuming the null hypothesis is true.\n",
    "\n",
    "If the p-value is very small (typically less than 0.05), this means the observed result is unlikely to have occurred by random chance under the null hypothesis, and we would reject 𝐻0 in favor of 𝐻𝐴.\n",
    "\n",
    "Conclusion Regarding the Null Hypothesis\n",
    "Based on the computed p-value, if it is smaller than a significance level (e.g., 0.05), we can reject the null hypothesis and conclude that there is evidence that STA130 students are not just guessing and have some ability to distinguish the order of pouring tea and milk.\n",
    "\n",
    "If the p-value is larger than 0.05, we would fail to reject the null hypothesis, meaning we don't have enough evidence to claim that students are doing better than random guessing.\n",
    "\n",
    "Final Remarks\n",
    "This analysis follows the steps of a formal hypothesis test similar to Fisher's original tea experiment. While the sample size and population differ, the logic of testing for the ability to distinguish between two processes (tea vs. milk poured first) remains the same."
   ]
  }
 ],
 "metadata": {
  "kernelspec": {
   "display_name": "Python 3 (ipykernel)",
   "language": "python",
   "name": "python3"
  },
  "language_info": {
   "codemirror_mode": {
    "name": "ipython",
    "version": 3
   },
   "file_extension": ".py",
   "mimetype": "text/x-python",
   "name": "python",
   "nbconvert_exporter": "python",
   "pygments_lexer": "ipython3",
   "version": "3.11.6"
  }
 },
 "nbformat": 4,
 "nbformat_minor": 5
}

